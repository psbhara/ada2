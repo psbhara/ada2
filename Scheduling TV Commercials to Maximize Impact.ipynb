{
 "cells": [
  {
   "cell_type": "code",
   "execution_count": null,
   "id": "84afd347-ac0c-48dc-810a-a9b1d0d9a8c0",
   "metadata": {},
   "outputs": [],
   "source": [
    "ads = [\n",
    "    ('A', 2, 100),\n",
    "    ('B', 1, 19),\n",
    "    ('C', 2, 27),\n",
    "    ('D', 1, 25),\n",
    "    ('E', 3, 15)\n",
    "]\n"
   ]
  }
 ],
 "metadata": {
  "kernelspec": {
   "display_name": "Python [conda env:Orange]",
   "language": "python",
   "name": "conda-env-Orange-py"
  },
  "language_info": {
   "codemirror_mode": {
    "name": "ipython",
    "version": 3
   },
   "file_extension": ".py",
   "mimetype": "text/x-python",
   "name": "python",
   "nbconvert_exporter": "python",
   "pygments_lexer": "ipython3",
   "version": "3.11.8"
  }
 },
 "nbformat": 4,
 "nbformat_minor": 5
}
